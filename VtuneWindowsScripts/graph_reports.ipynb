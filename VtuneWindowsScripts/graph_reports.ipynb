{
 "cells": [
  {
   "cell_type": "code",
   "execution_count": null,
   "metadata": {
    "vscode": {
     "languageId": "plaintext"
    }
   },
   "outputs": [],
   "source": [
    "import pandas as pd\n",
    "from io import StringIO\n",
    "\n",
    "# Example CSV data\n",
    "csv_data = 'C:\\\\Users\\\\roymo\\\\Documents\\\\ProcSimVal\\\\VtuneWindowsScripts\\\\medians_report.csv'\n",
    "\n",
    "# Parse the CSV data\n",
    "data = pd.read_csv(StringIO(csv_data))\n",
    "\n",
    "# Separate results into benchmarks\n",
    "data['Benchmark'] = data['Benchmark'].apply(lambda x: x.split('_')[0])\n",
    "\n",
    "# Display the parsed data\n",
    "print(data)\n"
   ]
  }
 ],
 "metadata": {
  "language_info": {
   "name": "python"
  }
 },
 "nbformat": 4,
 "nbformat_minor": 2
}
